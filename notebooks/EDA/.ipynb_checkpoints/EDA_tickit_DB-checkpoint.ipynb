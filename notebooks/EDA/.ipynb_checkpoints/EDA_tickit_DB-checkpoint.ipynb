{
 "cells": [
  {
   "cell_type": "markdown",
   "id": "technological-visiting",
   "metadata": {},
   "source": [
    "# EDA de la base de datos tickit\n",
    "\n",
    "Este EDA/ETL es para preparar los datos de las bases de TICKIT para athena, usando pandas y cambiando el separador de todos los archivos CSV a un TSV (funciona mejor con Athena un TSV)"
   ]
  },
  {
   "cell_type": "code",
   "execution_count": 13,
   "id": "junior-friendship",
   "metadata": {},
   "outputs": [],
   "source": [
    "# Imports\n",
    "import os\n",
    "import glob\n",
    "import pandas as pd\n",
    "\n"
   ]
  },
  {
   "cell_type": "code",
   "execution_count": 14,
   "id": "successful-proceeding",
   "metadata": {},
   "outputs": [
    {
     "name": "stdout",
     "output_type": "stream",
     "text": [
      "['../../datasets/tickitdb\\\\allevents_pipe.txt', '../../datasets/tickitdb\\\\allusers_pipe.txt', '../../datasets/tickitdb\\\\category_pipe.txt', '../../datasets/tickitdb\\\\date2008_pipe.txt', '../../datasets/tickitdb\\\\listings_pipe.txt', '../../datasets/tickitdb\\\\sales_tab.txt', '../../datasets/tickitdb\\\\venue_pipe.txt'] 7\n"
     ]
    }
   ],
   "source": [
    "# Haciendo un listado de los csvs\n",
    "data = r\"../../datasets/tickitdb/*.txt\" # cambiar path\n",
    "txt_fp = [txt for txt in glob.glob(data)]\n",
    "print(txt_fp, len (txt_fp))"
   ]
  },
  {
   "cell_type": "code",
   "execution_count": 64,
   "id": "stainless-blast",
   "metadata": {},
   "outputs": [],
   "source": [
    "# definiendo una función de conversion\n",
    "\n",
    "out_path = r\"out/\"\n",
    "\n",
    "def convert_tsv(file_path, out_path):\n",
    "    df = pd.read_csv(file_path,error_bad_lines=False)\n",
    "    try:\n",
    "        out_path = os.path.join(out_path,os.path.splitext(os.path.basename(file_path))[0]+\".tsv\")\n",
    "        df.to_csv(out_path, sep=\"\\t\")\n",
    "        return (\"ok\",out_path)\n",
    "    except Exception:\n",
    "        return (\"error\",out_path)\n"
   ]
  },
  {
   "cell_type": "code",
   "execution_count": 65,
   "id": "welsh-agenda",
   "metadata": {},
   "outputs": [
    {
     "name": "stderr",
     "output_type": "stream",
     "text": [
      "b'Skipping line 11: expected 1 fields, saw 3\\n'\n"
     ]
    },
    {
     "name": "stdout",
     "output_type": "stream",
     "text": [
      "  estado                    ruta\n",
      "0     ok  out/allevents_pipe.tsv\n",
      "1     ok   out/allusers_pipe.tsv\n",
      "2     ok   out/category_pipe.tsv\n",
      "3     ok   out/date2008_pipe.tsv\n",
      "4     ok   out/listings_pipe.tsv\n",
      "5     ok       out/sales_tab.tsv\n",
      "6     ok      out/venue_pipe.tsv\n"
     ]
    }
   ],
   "source": [
    "# Ejecutando la conversion\n",
    "\n",
    "res= [convert_tsv(txt_path,out_path) for txt_path in txt_fp]\n",
    "#convert_tsv(txt_fp[2],out_path)\n",
    "print(pd.DataFrame(res,columns=[\"estado\",\"ruta\"]))"
   ]
  },
  {
   "cell_type": "code",
   "execution_count": null,
   "id": "rural-battery",
   "metadata": {},
   "outputs": [],
   "source": []
  }
 ],
 "metadata": {
  "kernelspec": {
   "display_name": "Python 3",
   "language": "python",
   "name": "python3"
  },
  "language_info": {
   "codemirror_mode": {
    "name": "ipython",
    "version": 3
   },
   "file_extension": ".py",
   "mimetype": "text/x-python",
   "name": "python",
   "nbconvert_exporter": "python",
   "pygments_lexer": "ipython3",
   "version": "3.9.2"
  }
 },
 "nbformat": 4,
 "nbformat_minor": 5
}
